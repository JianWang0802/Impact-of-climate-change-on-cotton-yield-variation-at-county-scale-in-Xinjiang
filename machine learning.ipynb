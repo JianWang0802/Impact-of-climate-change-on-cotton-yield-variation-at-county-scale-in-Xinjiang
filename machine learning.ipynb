{
 "cells": [
  {
   "cell_type": "code",
   "execution_count": null,
   "id": "a5f6452a",
   "metadata": {},
   "outputs": [],
   "source": [
    "# import packages\n",
    "from sklearn.metrics import r2_score, mean_squared_error, mean_absolute_error\n",
    "from sklearn.model_selection import train_test_split\n",
    "import pandas as pd \n",
    "import numpy as np"
   ]
  },
  {
   "cell_type": "markdown",
   "id": "24d7397e",
   "metadata": {},
   "source": [
    "# PanelOLS"
   ]
  },
  {
   "cell_type": "code",
   "execution_count": null,
   "id": "324fa130",
   "metadata": {},
   "outputs": [],
   "source": [
    "# import packages\n",
    "from linearmodels import PanelOLS\n",
    "\n",
    "# Reading data\n",
    "data = pd.read_excel('filename')\n",
    "# Select the desired columns\n",
    "data = data[['Region', 'Year', 'Prec', 'Tmean', 'Tmin', 'Tmax', 'Srad', 'Lrad', 'Ssd', 'EAT', 'AAT', 'Yield', 'Yield_i']]\n",
    "# Standardized features\n",
    "data = data.set_index(['Region', 'Year'])\n",
    "scaler = StandardScaler()\n",
    "data[['Prec', 'Tmean', 'Tmin', 'Tmax', 'Srad', 'Lrad', 'Ssd', 'EAT', 'AAT']] = scaler.fit_transform(data[['Prec', 'Tmean', 'Tmin', 'Tmax', 'Srad', 'Lrad', 'Ssd', 'EAT', 'AAT']])\n",
    "# 拟Fit the panelOLS model\n",
    "model = PanelOLS.from_formula('Yield ~ 1 + Yield_i + Prec + Tmean + Srad + Ssd + EAT + Tmax + Tmin + AAT', data=data).fit()\n",
    "print(model)\n",
    "# Model prediction\n",
    "data['Yield_predicted'] = model.predict()\n",
    "# calculate RMSE\n",
    "rmse = np.sqrt(mean_squared_error(data['Yield'], data['Yield_predicted']))\n",
    "# calculate MAE\n",
    "mae = mean_absolute_error(data['Yield'], data['Yield_predicted'])\n",
    "print(\"RMSE:\", rmse)\n",
    "print(\"MAE:\", mae)"
   ]
  },
  {
   "cell_type": "markdown",
   "id": "d9de8cee",
   "metadata": {},
   "source": [
    "# RFR model"
   ]
  },
  {
   "cell_type": "code",
   "execution_count": null,
   "id": "58f4baa7",
   "metadata": {},
   "outputs": [],
   "source": [
    "# Import packages\n",
    "from sklearn.ensemble import RandomForestRegressor, GradientBoostingRegressor\n",
    "from sklearn.preprocessing import StandardScaler\n",
    "\n",
    "# Reading data and process features\n",
    "data = pd.read_excel('filename')\n",
    "data = data[['Region', 'Year', 'Yield_i', 'Yield_change', 'Prec', 'Tmean', 'Tmax', 'Tmin', 'Srad', 'Ssd', 'EAT', 'Lrad', 'AAT', 'Pres','Yield']]\n",
    "data = data.set_index(['Region', 'Year'])\n",
    "y = data['Yield']\n",
    "\n",
    "# Split the data set into a training set and a test set\n",
    "X = data[['Prec', 'Tmean', 'Tmax', 'Tmin', 'Srad', 'Ssd', 'EAT', 'Lrad', 'AAT', 'Pres', 'Yield_i']]\n",
    "X_train, X_test, y_train, y_test = train_test_split(X, y, test_size=0.3, random_state=42)\n",
    "\n",
    "# Standardized feature\n",
    "scaler = StandardScaler()\n",
    "X_train = scaler.fit_transform(X_train)\n",
    "X_test = scaler.transform(X_test)\n",
    "# Create a random forest regression model\n",
    "rf_model = RandomForestRegressor(n_estimators=500, random_state=42, oob_score=True)",
    "\n",
    "# Fit the model on the training set\n",
    "rf_model.fit(X_train, y_train)\n",
    "\n",
    "# Make predictions on the test set\n",
    "y_pred = rf_model.predict(X_test)\n",
    "# Evaluate model performance\n",
    "r2 = r2_score(y_test, y_pred)\n",
    "rmse = mean_squared_error(y_test, y_pred, squared=False)\n",
    "mae = mean_absolute_error(y_test, y_pred)\n",
    "\n",
    "# Print evaluation results\n",
    "print(f'R-squared (R^2): {r2}')\n",
    "print(f'Root Mean Squared Error (RMSE): {rmse}')\n",
    "print(f'Mean Absolute Error (MAE): {mae}')"
   ]
  },
  {
   "cell_type": "markdown",
   "id": "49ecf655",
   "metadata": {},
   "source": [
    "# GBDT model"
   ]
  },
  {
   "cell_type": "code",
   "execution_count": null,
   "id": "f72f333c",
   "metadata": {},
   "outputs": [],
   "source": [
    "# import packages\n",
    "from sklearn.ensemble import  GradientBoostingRegressor\n",
    "from sklearn.model_selection import GridSearchCV\n",
    "import time\n",
    "\n",
    "# Read data and process features\n",
    "data = pd.read_excel('filename')\n",
    "data = data[['Region', 'Year', 'Yield_i', 'Yield_change', 'Prec', 'Tmean', 'Tmax', 'Tmin', 'Srad', 'Ssd', 'EAT', 'Lrad', 'AAT', 'Pres','Yield']]\n",
    "data = data.set_index(['Region', 'Year'])\n",
    "y = data['Yield']\n",
    "# Split the data set into a training set and a test set\n",
    "X = data[['Prec', 'Tmean', 'Pres','Tmax', 'Tmin', 'Srad', 'Ssd', 'EAT', 'Lrad', 'AAT', 'Yield_i']]\n",
    "X_train, X_test, y_train, y_test = train_test_split(X, y, test_size=0.3, random_state=42)\n",
    "# Standardized feature\n",
    "scaler = StandardScaler()\n",
    "X_train = scaler.fit_transform(X_train)\n",
    "X_test = scaler.transform(X_test)\n",
    "# Create a random forest regression model\n",
    "rf_model = GradientBoostingRegressor(n_estimators=500, random_state=42, learning_rate=0.1) \n",
    "# Fit the model on the training set\n",
    "rf_model.fit(X_train, y_train)\n",
    "# Make predictions on the test set\n",
    "y_pred = rf_model.predict(X_test)\n",
    "# Evaluate model performance\n",
    "r2 = r2_score(y_test, y_pred)\n",
    "rmse = mean_squared_error(y_test, y_pred, squared=False)\n",
    "mae = mean_absolute_error(y_test, y_pred)\n",
    "# Print evaluation results\n",
    "print(f'R-squared (R^2): {r2}')\n",
    "print(f'Root Mean Squared Error (RMSE): {rmse}')\n",
    "print(f'Mean Absolute Error (MAE): {mae}')"
   ]
  },
  {
   "cell_type": "markdown",
   "id": "b401aecd",
   "metadata": {},
   "source": [
    "# SVR model"
   ]
  },
  {
   "cell_type": "code",
   "execution_count": null,
   "id": "72269a0f",
   "metadata": {},
   "outputs": [],
   "source": [
    "# import packages\n",
    "from sklearn.svm import SVR\n",
    "\n",
    "# Read data and process features\n",
    "data = pd.read_excel('filename')\n",
    "data = data[['Region', 'Year', 'Prec', 'Yield_i', 'Tmean', 'Tmax', 'Tmin', 'Srad', 'Ssd', 'EAT', 'Lrad', 'AAT', 'Pres', 'Yield']]\n",
    "data = data.set_index(['Region', 'Year'])\n",
    "y = data['Yield']\n",
    "\n",
    "# Split the data set into a training set and a test set\n",
    "X = data[['Prec', 'Tmean', 'Tmax', 'Tmin', 'Srad', 'Ssd', 'EAT', 'Lrad', 'AAT', 'Pres', 'Yield_i']]\n",
    "X_train, X_test, y_train, y_test = train_test_split(X, y, test_size=0.3, random_state=42)\n",
    "\n",
    "# Standardized feature\n",
    "scaler = StandardScaler()\n",
    "X_train = scaler.fit_transform(X_train)\n",
    "X_test = scaler.fit_transform(X_test)\n",
    "# Create a random forest regression model\n",
    "svr_model = SVR(kernel='linear', C=1)  \n",
    "\n",
    "# Fit the model on the training set\n",
    "svr_model.fit(X_train, y_train)\n",
    "\n",
    "# Make predictions on the test set\n",
    "y_pred = svr_model.predict(X_test)\n",
    "# Evaluate model performance\n",
    "r2 = r2_score(y_test, y_pred)\n",
    "rmse = mean_squared_error(y_test, y_pred, squared=False)\n",
    "mae = mean_absolute_error(y_test, y_pred)\n",
    "\n",
    "# Print evaluation results\n",
    "print(f'R-squared (R^2): {r2}')\n",
    "print(f'Root Mean Squared Error (RMSE): {rmse}')\n",
    "print(f'Mean Absolute Error (MAE): {mae}')"
   ]
  },
  {
   "cell_type": "markdown",
   "id": "276d2bfb",
   "metadata": {},
   "source": [
    "# NN model"
   ]
  },
  {
   "cell_type": "code",
   "execution_count": null,
   "id": "374e0bee",
   "metadata": {},
   "outputs": [],
   "source": [
    "# import packages\n",
    "import tensorflow as tf\n",
    "from tensorflow import keras\n",
    "from sklearn.preprocessing import MinMaxScaler\n",
    "# Read data and process features\n",
    "data = pd.read_excel('filename')\n",
    "data = data[['Region', 'Year', 'Prec', 'Yield_i', 'Tmean', 'Tmax', 'Tmin', 'Srad', 'Ssd', 'EAT', 'Lrad', 'AAT', 'Pres', 'Yield']]\n",
    "data = data.set_index(['Region', 'Year'])\n",
    "y = data['Yield']\n",
    "\n",
    "# Split the data set into a training set and a test set\n",
    "X = data[['Prec', 'Tmean', 'Tmax', 'Tmin', 'Srad', 'Ssd', 'EAT', 'Lrad', 'AAT', 'Pres', 'Yield_i']]\n",
    "X_train, X_test, y_train, y_test = train_test_split( X, y, test_size=0.3, random_state=42)\n",
    "\n",
    "# create MinMaxScaler\n",
    "scaler = MinMaxScaler()\n",
    "# normalization\n",
    "X_train = scaler.fit_transform(X_train)\n",
    "X_test = scaler.transform(X_test)\n",
    "# Create a neural network regression model\n",
    "model = keras.Sequential([\n",
    "    keras.layers.Input(shape=(X_train.shape[1],)), \n",
    "    keras.layers.Dense(128, activation='relu'),  \n",
    "    keras.layers.Dense(64, activation='relu'),  \n",
    "    keras.layers.Dense(1) \n",
    "])\n",
    "# Compilation Model\n",
    "model.compile(optimizer='adam', loss='mean_squared_error')  \n",
    "# training model\n",
    "history = model.fit(X_train, y_train, epochs=100, batch_size=32,\n",
    "                    validation_data=(X_test, y_test), verbose=2)\n",
    "\n",
    "# normalization\n",
    "X_train = scaler.fit_transform(X_train)\n",
    "X_test = scaler.transform(X_test)\n",
    "# Make predictions on the test set\n",
    "y_pred = model.predict(X_test)\n",
    "# Evaluate model performance\n",
    "r2 = r2_score(y_test, y_pred)\n",
    "rmse = mean_squared_error(y_test, y_pred, squared=False)\n",
    "mae = mean_absolute_error(y_test, y_pred)\n",
    "# Print evaluation results\n",
    "print(f'R-squared (R^2): {r2}')\n",
    "print(f'Root Mean Squared Error (RMSE): {rmse}')\n",
    "print(f'Mean Absolute Error (MAE): {mae}')"
   ]
  },
  {
   "cell_type": "markdown",
   "id": "ec0cd8e3",
   "metadata": {},
   "source": [
    "# Ensemble learning"
   ]
  },
  {
   "cell_type": "code",
   "execution_count": null,
   "id": "7014e9ea",
   "metadata": {},
   "outputs": [],
   "source": [
    "# Import packages\n",
    "from sklearn.ensemble import RandomForestRegressor, GradientBoostingRegressor\n",
    "from sklearn.linear_model import Ridge\n",
    "from sklearn.ensemble import VotingRegressor\n",
    "\n",
    "# Read data and process features\n",
    "data = pd.read_excel('filename')\n",
    "data = data[['Region', 'Year', 'Yield_i', 'Yield_change', 'Prec', 'Tmean', 'Tmax', 'Tmin', 'Srad', 'Ssd', 'EAT', 'Lrad', 'AAT', 'Pres','Yield']]\n",
    "data = data.set_index(['Region', 'Year'])\n",
    "y = data['Yield']\n",
    "\n",
    "# Split the data set into a training set and a test set\n",
    "X = data[['Prec', 'Tmean', 'Pres','Tmax', 'Tmin', 'Srad', 'Ssd', 'EAT', 'Lrad', 'AAT', 'Yield_i']]\n",
    "X_train, X_test, y_train, y_test = train_test_split(X, y, test_size=0.3, random_state=42)\n",
    "\n",
    "# Standardized feature\n",
    "scaler = StandardScaler()\n",
    "X_train_scaled = scaler.fit_transform(X_train)\n",
    "X_test_scaled = scaler.transform(X_test)\n",
    "# Initialize each regression model\n",
    "rf_model = RandomForestRegressor(n_estimators=500, random_state=42)\n",
    "gb_model = GradientBoostingRegressor(n_estimators=500, random_state=42, learning_rate=0.1)\n",
    "svm_model = Ridge()\n",
    "\n",
    "# Define multi-model fusion\n",
    "voting_regressor = VotingRegressor([('rf', rf_model), ('gb', gb_model), ('SVR', svm_model)])\n",
    "\n",
    "# Training multi-model fusion\n",
    "voting_regressor.fit(X_train, y_train)\n",
    "\n",
    "X_train, X_test, y_train, y_test = train_test_split(X, y, test_size=0.5, random_state=42)\n",
    "# Standardized feature\n",
    "scaler = StandardScaler()\n",
    "X_train_scaled = scaler.fit_transform(X_train)\n",
    "X_test_scaled = scaler.transform(X_test)\n",
    "# predict\n",
    "y_pred = voting_regressor.predict(X_test)\n",
    "\n",
    "# Evaluate model performance\n",
    "rmse = np.sqrt(mean_squared_error(y_test, y_pred))\n",
    "r2 = r2_score(y_test, y_pred)\n",
    "mae = mean_absolute_error(y_test, y_pred)\n",
    "print(f\"R Mean Squared Error: {rmse}\")\n",
    "print(f\"R-squared: {r2}\")\n",
    "print(f\"Mean Absolute Error (MAE): {mae}\")"
   ]
  }
 ],
 "metadata": {
  "kernelspec": {
   "display_name": "Python 3",
   "language": "python",
   "name": "python3"
  },
  "language_info": {
   "codemirror_mode": {
    "name": "ipython",
    "version": 3
   },
   "file_extension": ".py",
   "mimetype": "text/x-python",
   "name": "python",
   "nbconvert_exporter": "python",
   "pygments_lexer": "ipython3",
   "version": "3.8.8"
  },
  "toc": {
   "base_numbering": 1,
   "nav_menu": {},
   "number_sections": true,
   "sideBar": true,
   "skip_h1_title": false,
   "title_cell": "Table of Contents",
   "title_sidebar": "Contents",
   "toc_cell": false,
   "toc_position": {},
   "toc_section_display": true,
   "toc_window_display": false
  },
  "varInspector": {
   "cols": {
    "lenName": 16,
    "lenType": 16,
    "lenVar": 40
   },
   "kernels_config": {
    "python": {
     "delete_cmd_postfix": "",
     "delete_cmd_prefix": "del ",
     "library": "var_list.py",
     "varRefreshCmd": "print(var_dic_list())"
    },
    "r": {
     "delete_cmd_postfix": ") ",
     "delete_cmd_prefix": "rm(",
     "library": "var_list.r",
     "varRefreshCmd": "cat(var_dic_list()) "
    }
   },
   "types_to_exclude": [
    "module",
    "function",
    "builtin_function_or_method",
    "instance",
    "_Feature"
   ],
   "window_display": false
  }
 },
 "nbformat": 4,
 "nbformat_minor": 5
}
